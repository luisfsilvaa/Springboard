{
  "nbformat": 4,
  "nbformat_minor": 0,
  "metadata": {
    "kernelspec": {
      "display_name": "Python 3",
      "language": "python",
      "name": "python3"
    },
    "language_info": {
      "codemirror_mode": {
        "name": "ipython",
        "version": 3
      },
      "file_extension": ".py",
      "mimetype": "text/x-python",
      "name": "python",
      "nbconvert_exporter": "python",
      "pygments_lexer": "ipython3",
      "version": "3.7.3"
    },
    "colab": {
      "provenance": []
    }
  },
  "cells": [
    {
      "cell_type": "markdown",
      "metadata": {
        "id": "Tia3MP1SJpgj"
      },
      "source": [
        "# Springboard Data Science Career Track Unit 4 Challenge - Tier 3 Complete\n",
        "\n",
        "## Objectives\n",
        "Hey! Great job getting through those challenging DataCamp courses. You're learning a lot in a short span of time. \n",
        "\n",
        "In this notebook, you're going to apply the skills you've been learning, bridging the gap between the controlled environment of DataCamp and the *slightly* messier work that data scientists do with actual datasets!\n",
        "\n",
        "Here’s the mystery we’re going to solve: ***which boroughs of London have seen the greatest increase in housing prices, on average, over the last two decades?***\n",
        "\n",
        "\n",
        "A borough is just a fancy word for district. You may be familiar with the five boroughs of New York… well, there are 32 boroughs within Greater London [(here's some info for the curious)](https://en.wikipedia.org/wiki/London_boroughs). Some of them are more desirable areas to live in, and the data will reflect that with a greater rise in housing prices.\n",
        "\n",
        "***This is the Tier 3 notebook, which means it's not filled in at all: we'll just give you the skeleton of a project, the brief and the data. It's up to you to play around with it and see what you can find out! Good luck! If you struggle, feel free to look at easier tiers for help; but try to dip in and out of them, as the more independent work you do, the better it is for your learning!***\n",
        "\n",
        "This challenge will make use of only what you learned in the following DataCamp courses: \n",
        "- Prework courses (Introduction to Python for Data Science, Intermediate Python for Data Science)\n",
        "- Data Types for Data Science\n",
        "- Python Data Science Toolbox (Part One) \n",
        "- pandas Foundations\n",
        "- Manipulating DataFrames with pandas\n",
        "- Merging DataFrames with pandas\n",
        "\n",
        "Of the tools, techniques and concepts in the above DataCamp courses, this challenge should require the application of the following: \n",
        "- **pandas**\n",
        "    - **data ingestion and inspection** (pandas Foundations, Module One) \n",
        "    - **exploratory data analysis** (pandas Foundations, Module Two)\n",
        "    - **tidying and cleaning** (Manipulating DataFrames with pandas, Module Three) \n",
        "    - **transforming DataFrames** (Manipulating DataFrames with pandas, Module One)\n",
        "    - **subsetting DataFrames with lists** (Manipulating DataFrames with pandas, Module One) \n",
        "    - **filtering DataFrames** (Manipulating DataFrames with pandas, Module One) \n",
        "    - **grouping data** (Manipulating DataFrames with pandas, Module Four) \n",
        "    - **melting data** (Manipulating DataFrames with pandas, Module Three) \n",
        "    - **advanced indexing** (Manipulating DataFrames with pandas, Module Four) \n",
        "- **matplotlib** (Intermediate Python for Data Science, Module One)\n",
        "- **fundamental data types** (Data Types for Data Science, Module One) \n",
        "- **dictionaries** (Intermediate Python for Data Science, Module Two)\n",
        "- **handling dates and times** (Data Types for Data Science, Module Four)\n",
        "- **function definition** (Python Data Science Toolbox - Part One, Module One)\n",
        "- **default arguments, variable length, and scope** (Python Data Science Toolbox - Part One, Module Two) \n",
        "- **lambda functions and error handling** (Python Data Science Toolbox - Part One, Module Four) "
      ]
    },
    {
      "cell_type": "markdown",
      "metadata": {
        "id": "Ipgd2nV8Jpgl"
      },
      "source": [
        "## The Data Science Pipeline\n",
        "\n",
        "This is Tier Three, so we'll get you started. But after that, it's all in your hands! When you feel done with your investigations, look back over what you've accomplished, and prepare a quick presentation of your findings for the next mentor meeting. \n",
        "\n",
        "Data Science is magical. In this case study, you'll get to apply some complex machine learning algorithms. But as  [David Spiegelhalter](https://www.youtube.com/watch?v=oUs1uvsz0Ok) reminds us, there is no substitute for simply **taking a really, really good look at the data.** Sometimes, this is all we need to answer our question.\n",
        "\n",
        "Data Science projects generally adhere to the four stages of Data Science Pipeline:\n",
        "1. Sourcing and loading \n",
        "2. Cleaning, transforming, and visualizing \n",
        "3. Modeling \n",
        "4. Evaluating and concluding \n"
      ]
    },
    {
      "cell_type": "markdown",
      "metadata": {
        "id": "zswDqbefJpgm"
      },
      "source": [
        "### 1. Sourcing and Loading \n",
        "\n",
        "Any Data Science project kicks off by importing  ***pandas***. The documentation of this wonderful library can be found [here](https://pandas.pydata.org/). As you've seen, pandas is conveniently connected to the [Numpy](http://www.numpy.org/) and [Matplotlib](https://matplotlib.org/) libraries. \n",
        "\n",
        "***Hint:*** This part of the data science pipeline will test those skills you acquired in the pandas Foundations course, Module One. "
      ]
    },
    {
      "cell_type": "markdown",
      "metadata": {
        "id": "aEau5nEvJpgm"
      },
      "source": [
        "#### 1.1. Importing Libraries"
      ]
    },
    {
      "cell_type": "code",
      "metadata": {
        "id": "7Bt_Q_oPJpgn"
      },
      "source": [
        "# Let's import the pandas, numpy libraries as pd, and np respectively. \n",
        "import pandas as pd\n",
        "import numpy as np\n",
        "# Load the pyplot collection of functions from matplotlib, as plt \n",
        "import matplotlib.pyplot as plt\n"
      ],
      "execution_count": 91,
      "outputs": []
    },
    {
      "cell_type": "markdown",
      "metadata": {
        "id": "koUrawxsJpgq"
      },
      "source": [
        "#### 1.2.  Loading the data\n",
        "Your data comes from the [London Datastore](https://data.london.gov.uk/): a free, open-source data-sharing portal for London-oriented datasets. "
      ]
    },
    {
      "cell_type": "code",
      "metadata": {
        "id": "AiLiD4v3Jpgr"
      },
      "source": [
        "# First, make a variable called url_LondonHousePrices, and assign it the following link, enclosed in quotation-marks as a string:\n",
        "# https://data.london.gov.uk/download/uk-house-price-index/70ac0766-8902-4eb5-aab5-01951aaed773/UK%20House%20price%20index.xls\n",
        "\n",
        "url_LondonHousePrices = \"https://data.london.gov.uk/download/uk-house-price-index/70ac0766-8902-4eb5-aab5-01951aaed773/UK%20House%20price%20index.xls\"\n",
        "\n",
        "# The dataset we're interested in contains the Average prices of the houses, and is actually on a particular sheet of the Excel file. \n",
        "# As a result, we need to specify the sheet name in the read_excel() method.\n",
        "# Put this data into a variable called properties.  \n",
        "properties = pd.read_excel(url_LondonHousePrices, sheet_name='Average price', index_col= None)"
      ],
      "execution_count": 10,
      "outputs": []
    },
    {
      "cell_type": "markdown",
      "metadata": {
        "id": "POukEJXgJpgu"
      },
      "source": [
        "### 2. Cleaning, transforming, and visualizing\n",
        "This second stage is arguably the most important part of any Data Science project. The first thing to do is take a proper look at the data. Cleaning forms the majority of this stage, and can be done both before or after Transformation.\n",
        "\n",
        "The end goal of data cleaning is to have tidy data. When data is tidy: \n",
        "\n",
        "1. Each variable has a column.\n",
        "2. Each observation forms a row.\n",
        "\n",
        "Keep the end goal in mind as you move through this process, every step will take you closer. \n",
        "\n",
        "\n",
        "\n",
        "***Hint:*** This part of the data science pipeline should test those skills you acquired in: \n",
        "- Intermediate Python for data science, all modules.\n",
        "- pandas Foundations, all modules. \n",
        "- Manipulating DataFrames with pandas, all modules.\n",
        "- Data Types for Data Science, Module Four.\n",
        "- Python Data Science Toolbox - Part One, all modules"
      ]
    },
    {
      "cell_type": "markdown",
      "metadata": {
        "id": "Te0Q548tnzZa"
      },
      "source": [
        "**2.1. Exploring your data** \n",
        "\n",
        "Think about your pandas functions for checking out a dataframe. "
      ]
    },
    {
      "cell_type": "code",
      "metadata": {
        "id": "Rxirxw_qoAJa",
        "colab": {
          "base_uri": "https://localhost:8080/",
          "height": 386
        },
        "outputId": "c3f4202c-0ed2-48a9-efd6-e06f49eaf88d"
      },
      "source": [
        "properties.head()"
      ],
      "execution_count": 5,
      "outputs": [
        {
          "output_type": "execute_result",
          "data": {
            "text/plain": [
              "  Unnamed: 0 City of London Barking & Dagenham       Barnet       Bexley  \\\n",
              "0        NaT      E09000001          E09000002    E09000003    E09000004   \n",
              "1 1995-01-01    91448.98487         50460.2266  93284.51832  64958.09036   \n",
              "2 1995-02-01    82202.77314        51085.77983  93190.16963  64787.92069   \n",
              "3 1995-03-01    79120.70256        51268.96956  92247.52435  64367.49344   \n",
              "4 1995-04-01    77101.20804        53133.50526  90762.87492  64277.66881   \n",
              "\n",
              "         Brent      Bromley       Camden      Croydon       Ealing  ...  \\\n",
              "0    E09000005    E09000006    E09000007    E09000008    E09000009  ...   \n",
              "1  71306.56698  81671.47692  120932.8881  69158.16225  79885.89069  ...   \n",
              "2  72022.26197  81657.55944  119508.8622  68951.09542  80897.06551  ...   \n",
              "3  72015.76274  81449.31143  120282.2131  68712.44341  81379.86288  ...   \n",
              "4  72965.63094  81124.41227   120097.899  68610.04641  82188.90498  ...   \n",
              "\n",
              "    NORTH WEST YORKS & THE HUMBER EAST MIDLANDS WEST MIDLANDS EAST OF ENGLAND  \\\n",
              "0    E12000002          E12000003     E12000004     E12000005       E12000006   \n",
              "1  43958.48001        44803.42878   45544.52227   48527.52339      56701.5961   \n",
              "2  43925.42289        44528.80721   46051.57066   49341.29029     56593.59475   \n",
              "3   44434.8681        45200.46775   45383.82395   49442.17973     56171.18278   \n",
              "4   44267.7796        45614.34341   46124.23045   49455.93299     56567.89582   \n",
              "\n",
              "        LONDON   SOUTH EAST   SOUTH WEST Unnamed: 47      England  \n",
              "0    E12000007    E12000008    E12000009         NaN    E92000001  \n",
              "1  74435.76052  64018.87894   54705.1579         NaN  53202.77128  \n",
              "2  72777.93709  63715.02399  54356.14843         NaN   53096.1549  \n",
              "3  73896.84204  64113.60858  53583.07667         NaN   53201.2843  \n",
              "4  74455.28754  64623.22395  54786.01938         NaN   53590.8548  \n",
              "\n",
              "[5 rows x 49 columns]"
            ],
            "text/html": [
              "\n",
              "  <div id=\"df-fa253f81-40b9-4f5d-804f-8caccd608c39\">\n",
              "    <div class=\"colab-df-container\">\n",
              "      <div>\n",
              "<style scoped>\n",
              "    .dataframe tbody tr th:only-of-type {\n",
              "        vertical-align: middle;\n",
              "    }\n",
              "\n",
              "    .dataframe tbody tr th {\n",
              "        vertical-align: top;\n",
              "    }\n",
              "\n",
              "    .dataframe thead th {\n",
              "        text-align: right;\n",
              "    }\n",
              "</style>\n",
              "<table border=\"1\" class=\"dataframe\">\n",
              "  <thead>\n",
              "    <tr style=\"text-align: right;\">\n",
              "      <th></th>\n",
              "      <th>Unnamed: 0</th>\n",
              "      <th>City of London</th>\n",
              "      <th>Barking &amp; Dagenham</th>\n",
              "      <th>Barnet</th>\n",
              "      <th>Bexley</th>\n",
              "      <th>Brent</th>\n",
              "      <th>Bromley</th>\n",
              "      <th>Camden</th>\n",
              "      <th>Croydon</th>\n",
              "      <th>Ealing</th>\n",
              "      <th>...</th>\n",
              "      <th>NORTH WEST</th>\n",
              "      <th>YORKS &amp; THE HUMBER</th>\n",
              "      <th>EAST MIDLANDS</th>\n",
              "      <th>WEST MIDLANDS</th>\n",
              "      <th>EAST OF ENGLAND</th>\n",
              "      <th>LONDON</th>\n",
              "      <th>SOUTH EAST</th>\n",
              "      <th>SOUTH WEST</th>\n",
              "      <th>Unnamed: 47</th>\n",
              "      <th>England</th>\n",
              "    </tr>\n",
              "  </thead>\n",
              "  <tbody>\n",
              "    <tr>\n",
              "      <th>0</th>\n",
              "      <td>NaT</td>\n",
              "      <td>E09000001</td>\n",
              "      <td>E09000002</td>\n",
              "      <td>E09000003</td>\n",
              "      <td>E09000004</td>\n",
              "      <td>E09000005</td>\n",
              "      <td>E09000006</td>\n",
              "      <td>E09000007</td>\n",
              "      <td>E09000008</td>\n",
              "      <td>E09000009</td>\n",
              "      <td>...</td>\n",
              "      <td>E12000002</td>\n",
              "      <td>E12000003</td>\n",
              "      <td>E12000004</td>\n",
              "      <td>E12000005</td>\n",
              "      <td>E12000006</td>\n",
              "      <td>E12000007</td>\n",
              "      <td>E12000008</td>\n",
              "      <td>E12000009</td>\n",
              "      <td>NaN</td>\n",
              "      <td>E92000001</td>\n",
              "    </tr>\n",
              "    <tr>\n",
              "      <th>1</th>\n",
              "      <td>1995-01-01</td>\n",
              "      <td>91448.98487</td>\n",
              "      <td>50460.2266</td>\n",
              "      <td>93284.51832</td>\n",
              "      <td>64958.09036</td>\n",
              "      <td>71306.56698</td>\n",
              "      <td>81671.47692</td>\n",
              "      <td>120932.8881</td>\n",
              "      <td>69158.16225</td>\n",
              "      <td>79885.89069</td>\n",
              "      <td>...</td>\n",
              "      <td>43958.48001</td>\n",
              "      <td>44803.42878</td>\n",
              "      <td>45544.52227</td>\n",
              "      <td>48527.52339</td>\n",
              "      <td>56701.5961</td>\n",
              "      <td>74435.76052</td>\n",
              "      <td>64018.87894</td>\n",
              "      <td>54705.1579</td>\n",
              "      <td>NaN</td>\n",
              "      <td>53202.77128</td>\n",
              "    </tr>\n",
              "    <tr>\n",
              "      <th>2</th>\n",
              "      <td>1995-02-01</td>\n",
              "      <td>82202.77314</td>\n",
              "      <td>51085.77983</td>\n",
              "      <td>93190.16963</td>\n",
              "      <td>64787.92069</td>\n",
              "      <td>72022.26197</td>\n",
              "      <td>81657.55944</td>\n",
              "      <td>119508.8622</td>\n",
              "      <td>68951.09542</td>\n",
              "      <td>80897.06551</td>\n",
              "      <td>...</td>\n",
              "      <td>43925.42289</td>\n",
              "      <td>44528.80721</td>\n",
              "      <td>46051.57066</td>\n",
              "      <td>49341.29029</td>\n",
              "      <td>56593.59475</td>\n",
              "      <td>72777.93709</td>\n",
              "      <td>63715.02399</td>\n",
              "      <td>54356.14843</td>\n",
              "      <td>NaN</td>\n",
              "      <td>53096.1549</td>\n",
              "    </tr>\n",
              "    <tr>\n",
              "      <th>3</th>\n",
              "      <td>1995-03-01</td>\n",
              "      <td>79120.70256</td>\n",
              "      <td>51268.96956</td>\n",
              "      <td>92247.52435</td>\n",
              "      <td>64367.49344</td>\n",
              "      <td>72015.76274</td>\n",
              "      <td>81449.31143</td>\n",
              "      <td>120282.2131</td>\n",
              "      <td>68712.44341</td>\n",
              "      <td>81379.86288</td>\n",
              "      <td>...</td>\n",
              "      <td>44434.8681</td>\n",
              "      <td>45200.46775</td>\n",
              "      <td>45383.82395</td>\n",
              "      <td>49442.17973</td>\n",
              "      <td>56171.18278</td>\n",
              "      <td>73896.84204</td>\n",
              "      <td>64113.60858</td>\n",
              "      <td>53583.07667</td>\n",
              "      <td>NaN</td>\n",
              "      <td>53201.2843</td>\n",
              "    </tr>\n",
              "    <tr>\n",
              "      <th>4</th>\n",
              "      <td>1995-04-01</td>\n",
              "      <td>77101.20804</td>\n",
              "      <td>53133.50526</td>\n",
              "      <td>90762.87492</td>\n",
              "      <td>64277.66881</td>\n",
              "      <td>72965.63094</td>\n",
              "      <td>81124.41227</td>\n",
              "      <td>120097.899</td>\n",
              "      <td>68610.04641</td>\n",
              "      <td>82188.90498</td>\n",
              "      <td>...</td>\n",
              "      <td>44267.7796</td>\n",
              "      <td>45614.34341</td>\n",
              "      <td>46124.23045</td>\n",
              "      <td>49455.93299</td>\n",
              "      <td>56567.89582</td>\n",
              "      <td>74455.28754</td>\n",
              "      <td>64623.22395</td>\n",
              "      <td>54786.01938</td>\n",
              "      <td>NaN</td>\n",
              "      <td>53590.8548</td>\n",
              "    </tr>\n",
              "  </tbody>\n",
              "</table>\n",
              "<p>5 rows × 49 columns</p>\n",
              "</div>\n",
              "      <button class=\"colab-df-convert\" onclick=\"convertToInteractive('df-fa253f81-40b9-4f5d-804f-8caccd608c39')\"\n",
              "              title=\"Convert this dataframe to an interactive table.\"\n",
              "              style=\"display:none;\">\n",
              "        \n",
              "  <svg xmlns=\"http://www.w3.org/2000/svg\" height=\"24px\"viewBox=\"0 0 24 24\"\n",
              "       width=\"24px\">\n",
              "    <path d=\"M0 0h24v24H0V0z\" fill=\"none\"/>\n",
              "    <path d=\"M18.56 5.44l.94 2.06.94-2.06 2.06-.94-2.06-.94-.94-2.06-.94 2.06-2.06.94zm-11 1L8.5 8.5l.94-2.06 2.06-.94-2.06-.94L8.5 2.5l-.94 2.06-2.06.94zm10 10l.94 2.06.94-2.06 2.06-.94-2.06-.94-.94-2.06-.94 2.06-2.06.94z\"/><path d=\"M17.41 7.96l-1.37-1.37c-.4-.4-.92-.59-1.43-.59-.52 0-1.04.2-1.43.59L10.3 9.45l-7.72 7.72c-.78.78-.78 2.05 0 2.83L4 21.41c.39.39.9.59 1.41.59.51 0 1.02-.2 1.41-.59l7.78-7.78 2.81-2.81c.8-.78.8-2.07 0-2.86zM5.41 20L4 18.59l7.72-7.72 1.47 1.35L5.41 20z\"/>\n",
              "  </svg>\n",
              "      </button>\n",
              "      \n",
              "  <style>\n",
              "    .colab-df-container {\n",
              "      display:flex;\n",
              "      flex-wrap:wrap;\n",
              "      gap: 12px;\n",
              "    }\n",
              "\n",
              "    .colab-df-convert {\n",
              "      background-color: #E8F0FE;\n",
              "      border: none;\n",
              "      border-radius: 50%;\n",
              "      cursor: pointer;\n",
              "      display: none;\n",
              "      fill: #1967D2;\n",
              "      height: 32px;\n",
              "      padding: 0 0 0 0;\n",
              "      width: 32px;\n",
              "    }\n",
              "\n",
              "    .colab-df-convert:hover {\n",
              "      background-color: #E2EBFA;\n",
              "      box-shadow: 0px 1px 2px rgba(60, 64, 67, 0.3), 0px 1px 3px 1px rgba(60, 64, 67, 0.15);\n",
              "      fill: #174EA6;\n",
              "    }\n",
              "\n",
              "    [theme=dark] .colab-df-convert {\n",
              "      background-color: #3B4455;\n",
              "      fill: #D2E3FC;\n",
              "    }\n",
              "\n",
              "    [theme=dark] .colab-df-convert:hover {\n",
              "      background-color: #434B5C;\n",
              "      box-shadow: 0px 1px 3px 1px rgba(0, 0, 0, 0.15);\n",
              "      filter: drop-shadow(0px 1px 2px rgba(0, 0, 0, 0.3));\n",
              "      fill: #FFFFFF;\n",
              "    }\n",
              "  </style>\n",
              "\n",
              "      <script>\n",
              "        const buttonEl =\n",
              "          document.querySelector('#df-fa253f81-40b9-4f5d-804f-8caccd608c39 button.colab-df-convert');\n",
              "        buttonEl.style.display =\n",
              "          google.colab.kernel.accessAllowed ? 'block' : 'none';\n",
              "\n",
              "        async function convertToInteractive(key) {\n",
              "          const element = document.querySelector('#df-fa253f81-40b9-4f5d-804f-8caccd608c39');\n",
              "          const dataTable =\n",
              "            await google.colab.kernel.invokeFunction('convertToInteractive',\n",
              "                                                     [key], {});\n",
              "          if (!dataTable) return;\n",
              "\n",
              "          const docLinkHtml = 'Like what you see? Visit the ' +\n",
              "            '<a target=\"_blank\" href=https://colab.research.google.com/notebooks/data_table.ipynb>data table notebook</a>'\n",
              "            + ' to learn more about interactive tables.';\n",
              "          element.innerHTML = '';\n",
              "          dataTable['output_type'] = 'display_data';\n",
              "          await google.colab.output.renderOutput(dataTable, element);\n",
              "          const docLink = document.createElement('div');\n",
              "          docLink.innerHTML = docLinkHtml;\n",
              "          element.appendChild(docLink);\n",
              "        }\n",
              "      </script>\n",
              "    </div>\n",
              "  </div>\n",
              "  "
            ]
          },
          "metadata": {},
          "execution_count": 5
        }
      ]
    },
    {
      "cell_type": "markdown",
      "metadata": {
        "id": "tE9Sqt9-oAta"
      },
      "source": [
        "**2.2. Cleaning the data**\n",
        "\n",
        "You might find you need to transpose your dataframe, check out what its row indexes are, and reset the index. You  also might find you need to assign the values of the first row to your column headings  . (Hint: recall the .columns feature of DataFrames, as well as the iloc[] method).\n",
        "\n",
        "Don't be afraid to use StackOverflow for help  with this."
      ]
    },
    {
      "cell_type": "code",
      "metadata": {
        "id": "cdAu1A3YoH_r",
        "colab": {
          "base_uri": "https://localhost:8080/"
        },
        "outputId": "2635542f-04e7-4f7f-fd6f-28d6fbb108c8"
      },
      "source": [
        "trans_props = properties.transpose()\n",
        "ni_props = trans_props.reset_index()\n",
        "print(ni_props.head())"
      ],
      "execution_count": 24,
      "outputs": [
        {
          "output_type": "stream",
          "name": "stdout",
          "text": [
            "                index          0                    1                    2  \\\n",
            "0          Unnamed: 0        NaT  1995-01-01 00:00:00  1995-02-01 00:00:00   \n",
            "1      City of London  E09000001          91448.98487          82202.77314   \n",
            "2  Barking & Dagenham  E09000002           50460.2266          51085.77983   \n",
            "3              Barnet  E09000003          93284.51832          93190.16963   \n",
            "4              Bexley  E09000004          64958.09036          64787.92069   \n",
            "\n",
            "                     3                    4                    5  \\\n",
            "0  1995-03-01 00:00:00  1995-04-01 00:00:00  1995-05-01 00:00:00   \n",
            "1          79120.70256          77101.20804          84409.14932   \n",
            "2          51268.96956          53133.50526          53042.24852   \n",
            "3          92247.52435          90762.87492          90258.00033   \n",
            "4          64367.49344          64277.66881          63997.13588   \n",
            "\n",
            "                     6                    7                    8  ...  \\\n",
            "0  1995-06-01 00:00:00  1995-07-01 00:00:00  1995-08-01 00:00:00  ...   \n",
            "1          94900.51244          110128.0423          112329.4376  ...   \n",
            "2          53700.34831          52113.12157          52232.19868  ...   \n",
            "3          90107.23471          91441.24768          92361.31512  ...   \n",
            "4          64252.32335          63722.70055          64432.60005  ...   \n",
            "\n",
            "                   326                  327                  328  \\\n",
            "0  2022-02-01 00:00:00  2022-03-01 00:00:00  2022-04-01 00:00:00   \n",
            "1         849362.10359         824133.84749         816422.34262   \n",
            "2         338140.92018         338630.76578          334154.4325   \n",
            "3         569623.80083         572378.86549         581748.16762   \n",
            "4         382615.07011         386187.71672         384938.87516   \n",
            "\n",
            "                   329                  330                  331  \\\n",
            "0  2022-05-01 00:00:00  2022-06-01 00:00:00  2022-07-01 00:00:00   \n",
            "1         803547.89146          827409.5555         811816.90685   \n",
            "2         336216.34247         344634.40197         348406.19705   \n",
            "3          588134.0976         593149.67956         591298.17908   \n",
            "4         386486.54544         392123.23696         396178.74246   \n",
            "\n",
            "                   332                  333                  334  \\\n",
            "0  2022-08-01 00:00:00  2022-09-01 00:00:00  2022-10-01 00:00:00   \n",
            "1         827263.45864         798952.26179         847145.43392   \n",
            "2          349490.5043         349998.49435          355205.6703   \n",
            "3         598728.88783         603197.24048          598389.1354   \n",
            "4         403542.57044         403388.15587         409595.39249   \n",
            "\n",
            "                   335  \n",
            "0  2022-11-01 00:00:00  \n",
            "1         935731.90624  \n",
            "2         359766.13814  \n",
            "3         585172.92015  \n",
            "4         408113.57717  \n",
            "\n",
            "[5 rows x 337 columns]\n"
          ]
        }
      ]
    },
    {
      "cell_type": "code",
      "source": [
        "ni_props.columns = ni_props.iloc[0]\n",
        "print(ni_props.columns)"
      ],
      "metadata": {
        "colab": {
          "base_uri": "https://localhost:8080/"
        },
        "id": "SQHhm3sjePoy",
        "outputId": "415a5731-8e3c-4879-ed5b-e0175c0daaab"
      },
      "execution_count": 26,
      "outputs": [
        {
          "output_type": "stream",
          "name": "stdout",
          "text": [
            "Index([       'Unnamed: 0',                 NaT, 1995-01-01 00:00:00,\n",
            "       1995-02-01 00:00:00, 1995-03-01 00:00:00, 1995-04-01 00:00:00,\n",
            "       1995-05-01 00:00:00, 1995-06-01 00:00:00, 1995-07-01 00:00:00,\n",
            "       1995-08-01 00:00:00,\n",
            "       ...\n",
            "       2022-02-01 00:00:00, 2022-03-01 00:00:00, 2022-04-01 00:00:00,\n",
            "       2022-05-01 00:00:00, 2022-06-01 00:00:00, 2022-07-01 00:00:00,\n",
            "       2022-08-01 00:00:00, 2022-09-01 00:00:00, 2022-10-01 00:00:00,\n",
            "       2022-11-01 00:00:00],\n",
            "      dtype='object', name=0, length=337)\n"
          ]
        }
      ]
    },
    {
      "cell_type": "code",
      "source": [
        "print(ni_props.head)"
      ],
      "metadata": {
        "colab": {
          "base_uri": "https://localhost:8080/"
        },
        "id": "62sMZ6o2fHv8",
        "outputId": "c0b27999-8992-49c4-b2a5-adb8535d4dd1"
      },
      "execution_count": 27,
      "outputs": [
        {
          "output_type": "stream",
          "name": "stdout",
          "text": [
            "<bound method NDFrame.head of 0             Unnamed: 0        NaN  1995-01-01 00:00:00  1995-02-01 00:00:00  \\\n",
            "0             Unnamed: 0        NaT  1995-01-01 00:00:00  1995-02-01 00:00:00   \n",
            "1         City of London  E09000001          91448.98487          82202.77314   \n",
            "2     Barking & Dagenham  E09000002           50460.2266          51085.77983   \n",
            "3                 Barnet  E09000003          93284.51832          93190.16963   \n",
            "4                 Bexley  E09000004          64958.09036          64787.92069   \n",
            "5                  Brent  E09000005          71306.56698          72022.26197   \n",
            "6                Bromley  E09000006          81671.47692          81657.55944   \n",
            "7                 Camden  E09000007          120932.8881          119508.8622   \n",
            "8                Croydon  E09000008          69158.16225          68951.09542   \n",
            "9                 Ealing  E09000009          79885.89069          80897.06551   \n",
            "10               Enfield  E09000010          72514.69096          73155.19746   \n",
            "11             Greenwich  E09000011          62300.10169          60993.26863   \n",
            "12               Hackney  E09000012          61296.52637          63187.08332   \n",
            "13  Hammersmith & Fulham  E09000013          124902.8602           122087.718   \n",
            "14              Haringey  E09000014          76287.56947          78901.21036   \n",
            "15                Harrow  E09000015          84769.52599          83396.10525   \n",
            "16              Havering  E09000016          68000.13774          69393.51294   \n",
            "17            Hillingdon  E09000017          73834.82964           75031.0696   \n",
            "18              Hounslow  E09000018          72231.70537          71051.55852   \n",
            "19             Islington  E09000019          92516.48557          94342.37334   \n",
            "20  Kensington & Chelsea  E09000020          182694.8326          182345.2463   \n",
            "21  Kingston upon Thames  E09000021          80875.84843          81230.13524   \n",
            "22               Lambeth  E09000022          67770.98843          65381.51908   \n",
            "23              Lewisham  E09000023          60491.26109          60869.27091   \n",
            "24                Merton  E09000024           82070.6133          79982.74872   \n",
            "25                Newham  E09000025          53539.31919          53153.88306   \n",
            "26             Redbridge  E09000026          72189.58437           72141.6261   \n",
            "27  Richmond upon Thames  E09000027          109326.1245          111103.0394   \n",
            "28             Southwark  E09000028          67885.20344           64799.0648   \n",
            "29                Sutton  E09000029          71536.97357          70893.20851   \n",
            "30         Tower Hamlets  E09000030          59865.18995          62318.53353   \n",
            "31        Waltham Forest  E09000031          61319.44913          60252.12246   \n",
            "32            Wandsworth  E09000032          88559.04381          88641.01678   \n",
            "33           Westminster  E09000033          133025.2772          131468.3096   \n",
            "34           Unnamed: 34        NaN                  NaN                  NaN   \n",
            "35          Inner London  E13000001           78251.9765          75885.70201   \n",
            "36          Outer London  E13000002          72958.79836          72937.88262   \n",
            "37           Unnamed: 37        NaN                  NaN                  NaN   \n",
            "38            NORTH EAST  E12000001          42076.35411          42571.98949   \n",
            "39            NORTH WEST  E12000002          43958.48001          43925.42289   \n",
            "40    YORKS & THE HUMBER  E12000003          44803.42878          44528.80721   \n",
            "41         EAST MIDLANDS  E12000004          45544.52227          46051.57066   \n",
            "42         WEST MIDLANDS  E12000005          48527.52339          49341.29029   \n",
            "43       EAST OF ENGLAND  E12000006           56701.5961          56593.59475   \n",
            "44                LONDON  E12000007          74435.76052          72777.93709   \n",
            "45            SOUTH EAST  E12000008          64018.87894          63715.02399   \n",
            "46            SOUTH WEST  E12000009           54705.1579          54356.14843   \n",
            "47           Unnamed: 47        NaN                  NaN                  NaN   \n",
            "48               England  E92000001          53202.77128           53096.1549   \n",
            "\n",
            "0   1995-03-01 00:00:00  1995-04-01 00:00:00  1995-05-01 00:00:00  \\\n",
            "0   1995-03-01 00:00:00  1995-04-01 00:00:00  1995-05-01 00:00:00   \n",
            "1           79120.70256          77101.20804          84409.14932   \n",
            "2           51268.96956          53133.50526          53042.24852   \n",
            "3           92247.52435          90762.87492          90258.00033   \n",
            "4           64367.49344          64277.66881          63997.13588   \n",
            "5           72015.76274          72965.63094          73704.04743   \n",
            "6           81449.31143          81124.41227          81542.61561   \n",
            "7           120282.2131           120097.899          119929.2782   \n",
            "8           68712.44341          68610.04641           68844.9169   \n",
            "9           81379.86288          82188.90498          82077.05525   \n",
            "10          72190.44144          71442.92235          70630.77955   \n",
            "11          61377.83464           61927.7246          63512.99103   \n",
            "12          63593.29935          65139.64403          66193.99212   \n",
            "13          120635.9467          121424.6241           124433.539   \n",
            "14          78521.94855          79545.57477           79374.0349   \n",
            "15          83416.23759          83567.88439          83853.65615   \n",
            "16          69368.02407          69444.26215          68534.52248   \n",
            "17          74188.66949          73911.40591          73117.12416   \n",
            "18          72097.99411          71890.28339          72877.47219   \n",
            "19          93465.86407          93344.49305          94346.39917   \n",
            "20          182878.8231          184176.9168          191474.1141   \n",
            "21          81111.48848          81672.80476          82123.51084   \n",
            "22          66336.51868           66388.7716          69035.11076   \n",
            "23          60288.03002          59471.03136          58551.38387   \n",
            "24          80661.68279          79990.54333          80873.98643   \n",
            "25          53458.26393          54479.75395          55803.95958   \n",
            "26          72501.35502          72228.60295          72366.64122   \n",
            "27          107325.4742               106875          107707.6799   \n",
            "28          65763.29719          63073.62117          64420.49933   \n",
            "29          70306.83844           69411.9439          69759.21989   \n",
            "30          63938.67686          66233.19383          66432.85846   \n",
            "31          60871.08493          60971.39722          61494.16938   \n",
            "32          87124.81523          87026.00225          86518.05945   \n",
            "33          132260.3417          133370.2036          133911.1117   \n",
            "34                  NaN                  NaN                  NaN   \n",
            "35          76591.59947          76851.56697          79129.19443   \n",
            "36          72714.53478          72591.92469          72752.99414   \n",
            "37                  NaN                  NaN                  NaN   \n",
            "38          42369.72984           42095.8436          43266.45165   \n",
            "39           44434.8681           44267.7796          44223.61973   \n",
            "40          45200.46775          45614.34341          44830.98563   \n",
            "41          45383.82395          46124.23045          45878.00396   \n",
            "42          49442.17973          49455.93299          50369.66188   \n",
            "43          56171.18278          56567.89582          56479.80183   \n",
            "44          73896.84204          74455.28754          75432.02786   \n",
            "45          64113.60858          64623.22395          64530.36358   \n",
            "46          53583.07667          54786.01938          54698.83831   \n",
            "47                  NaN                  NaN                  NaN   \n",
            "48           53201.2843           53590.8548          53678.24041   \n",
            "\n",
            "0   1995-06-01 00:00:00  1995-07-01 00:00:00  1995-08-01 00:00:00  ...  \\\n",
            "0   1995-06-01 00:00:00  1995-07-01 00:00:00  1995-08-01 00:00:00  ...   \n",
            "1           94900.51244          110128.0423          112329.4376  ...   \n",
            "2           53700.34831          52113.12157          52232.19868  ...   \n",
            "3           90107.23471          91441.24768          92361.31512  ...   \n",
            "4           64252.32335          63722.70055          64432.60005  ...   \n",
            "5           74310.48167          74127.03788           73547.0411  ...   \n",
            "6           82382.83435          82898.52264          82054.37156  ...   \n",
            "7           121887.4625          124027.5768          125529.8039  ...   \n",
            "8           69052.51103          69142.48112          68993.42545  ...   \n",
            "9           81630.66181           82352.2226          82706.65927  ...   \n",
            "10          71348.31147          71837.54011          72237.94562  ...   \n",
            "11          64751.56404          65486.34112          65076.43195  ...   \n",
            "12          66921.17101            68390.753          68096.79385  ...   \n",
            "13          126175.1513          124381.5134          123625.3196  ...   \n",
            "14           79956.3621          80746.34881          81217.69074  ...   \n",
            "15          84173.24689          84226.69844          84430.61796  ...   \n",
            "16          68464.60664          68680.83996          69023.36482  ...   \n",
            "17          74005.00585          74671.13263          74967.86534  ...   \n",
            "18          72331.08116          73717.78844          74479.94802  ...   \n",
            "19          97428.94311          98976.14077          98951.20791  ...   \n",
            "20          197265.7602          197963.3169          198037.4218  ...   \n",
            "21          82205.66822            82525.793          83342.84552  ...   \n",
            "22          68881.15764          69608.72242          68840.02827  ...   \n",
            "23          58041.43543          58126.37811           58151.3154  ...   \n",
            "24          80704.92667          81055.90335          80781.09186  ...   \n",
            "25          56067.76986          55458.31693          54709.35467  ...   \n",
            "26           72279.4325          72880.83974          73275.16891  ...   \n",
            "27          112865.0542          114656.6011          112320.4096  ...   \n",
            "28          64155.81449          67024.74767          65525.94434  ...   \n",
            "29          70125.24728          70789.57284          69958.41918  ...   \n",
            "30          66232.16372          64692.22672          63472.27558  ...   \n",
            "31          61547.79643          61933.52738           61916.4222  ...   \n",
            "32           88114.3351          89830.58934          90560.68078  ...   \n",
            "33          134562.1941          133450.2162          136581.5082  ...   \n",
            "34                  NaN                  NaN                  NaN  ...   \n",
            "35           79969.1525          80550.47935          80597.64563  ...   \n",
            "36          73189.39978          73665.90517          73691.12888  ...   \n",
            "37                  NaN                  NaN                  NaN  ...   \n",
            "38          42315.34372          43287.74323          41899.05494  ...   \n",
            "39          44112.96432          44109.58764          44193.66583  ...   \n",
            "40          45392.63981          45534.99864          45111.45939  ...   \n",
            "41          45679.99539          46037.67312          45922.53585  ...   \n",
            "42          50100.43023          49860.00809          49598.45969  ...   \n",
            "43          56288.94557          57242.30186          56732.40547  ...   \n",
            "44          75606.24501          75984.24079          75529.34488  ...   \n",
            "45            65511.008          65224.88465          64851.60429  ...   \n",
            "46          54420.15939          54265.86368          54365.71495  ...   \n",
            "47                  NaN                  NaN                  NaN  ...   \n",
            "48          53735.15475          53900.60633          53600.31975  ...   \n",
            "\n",
            "0   2022-02-01 00:00:00  2022-03-01 00:00:00  2022-04-01 00:00:00  \\\n",
            "0   2022-02-01 00:00:00  2022-03-01 00:00:00  2022-04-01 00:00:00   \n",
            "1          849362.10359         824133.84749         816422.34262   \n",
            "2          338140.92018         338630.76578          334154.4325   \n",
            "3          569623.80083         572378.86549         581748.16762   \n",
            "4          382615.07011         386187.71672         384938.87516   \n",
            "5          511369.12919         510197.10529         521597.06535   \n",
            "6          479175.04747         480942.34725         487594.60352   \n",
            "7           869304.3176         880128.14194         872948.97212   \n",
            "8          405126.73724         408879.83282         412080.36203   \n",
            "9           518329.5088         516271.44574         513803.60641   \n",
            "10         433491.32499          436069.1934         442885.07343   \n",
            "11         411754.28619         414329.88986         412433.76263   \n",
            "12         635847.54953         633276.02091         608914.80062   \n",
            "13         757397.80109          751892.7391         747955.09095   \n",
            "14         588614.19353         589485.33861         578954.92781   \n",
            "15         512621.55081         507172.79097         500926.80955   \n",
            "16         405104.21555         407077.56525         414966.51953   \n",
            "17         440528.96191         446197.35652         446954.89971   \n",
            "18         427873.16647         424068.68198         427430.07619   \n",
            "19         691261.18735         699198.29363            720946.02   \n",
            "20         1403941.9423         1473989.5042         1511951.8716   \n",
            "21         524228.08433          528571.0339         522748.02429   \n",
            "22         543430.39063         542160.40786         544228.11087   \n",
            "23         437775.57676         446759.83849         447256.43543   \n",
            "24         553826.75598         546658.44912         557301.84796   \n",
            "25         392475.27254         401327.68125         397582.78039   \n",
            "26         470874.86403         469338.57035         470359.38327   \n",
            "27         739491.30875         746150.31939         758274.32325   \n",
            "28          529371.5629         530344.81676         532042.68614   \n",
            "29         419816.01456         420020.89361          420816.2454   \n",
            "30         455556.47999         464637.98379         467131.12536   \n",
            "31         477070.53239          477854.1751         479250.11745   \n",
            "32         629622.24991         634251.36995         644992.65678   \n",
            "33         1063782.3941         1053287.9951         1034611.3502   \n",
            "34                  NaN                  NaN                  NaN   \n",
            "35         611918.50416         617255.27807         617736.25221   \n",
            "36         466600.22093         468023.55795         471065.50678   \n",
            "37                  NaN                  NaN                  NaN   \n",
            "38         149213.42332         151002.29846         152916.29756   \n",
            "39         201096.66039         202235.54266         204215.22256   \n",
            "40         197028.52589         196521.88418         198657.93856   \n",
            "41          233148.1327         235795.76265         237790.65802   \n",
            "42         234759.81156         237828.42207          240184.7195   \n",
            "43          339591.5588         340942.35079         342370.56752   \n",
            "44         518552.31491         517906.98612         524778.72143   \n",
            "45         375282.36752         379171.99466         380645.86298   \n",
            "46         309501.98211         311556.04264         316665.70147   \n",
            "47                  NaN                  NaN                  NaN   \n",
            "48         291768.41589         293615.26185         296344.89317   \n",
            "\n",
            "0   2022-05-01 00:00:00  2022-06-01 00:00:00  2022-07-01 00:00:00  \\\n",
            "0   2022-05-01 00:00:00  2022-06-01 00:00:00  2022-07-01 00:00:00   \n",
            "1          803547.89146          827409.5555         811816.90685   \n",
            "2          336216.34247         344634.40197         348406.19705   \n",
            "3           588134.0976         593149.67956         591298.17908   \n",
            "4          386486.54544         392123.23696         396178.74246   \n",
            "5          529215.55293         528435.52216         546369.73667   \n",
            "6           491271.1038         501529.75775         503808.70803   \n",
            "7          846413.34464         833254.76311         846966.90298   \n",
            "8           415260.3641         415549.43995         419098.18458   \n",
            "9          517031.81689         522216.38733         527746.15634   \n",
            "10         448777.92067         448958.59199          448643.0087   \n",
            "11         423564.22338         433718.55621         435564.47459   \n",
            "12         605181.58521         619989.53186         640347.55357   \n",
            "13         744931.59717         758244.75579         778207.13174   \n",
            "14         585513.59482         587853.68169         595915.15162   \n",
            "15         506206.34625          518333.2832         535326.56106   \n",
            "16         419949.80909         420854.53143         422533.21705   \n",
            "17         448621.81485         453080.75107         456469.44468   \n",
            "18         431125.15509         446262.10803         451605.01197   \n",
            "19         734719.94166         721005.72067         713973.04608   \n",
            "20         1489402.6116          1452515.228         1424306.1302   \n",
            "21         533129.54264         534923.36553         551379.45895   \n",
            "22          540467.0729         543713.41518         550373.65595   \n",
            "23         448323.77292         454431.12245         464391.27482   \n",
            "24         560687.06131         565044.75832         574125.24071   \n",
            "25         403891.92652         405299.19205         414971.10578   \n",
            "26         460314.98968         466581.34577         471166.88427   \n",
            "27         750840.25115          757615.6529          744245.4559   \n",
            "28         535635.31836         548486.66872          558405.9062   \n",
            "29         425103.15061         433990.40348         439248.94614   \n",
            "30         471883.84319         471776.23121         477212.70364   \n",
            "31         485355.80003         496654.73194         511700.99539   \n",
            "32         640383.76945         642417.84586         644575.98828   \n",
            "33         993688.76025         990177.70758         972535.88034   \n",
            "34                  NaN                  NaN                  NaN   \n",
            "35         615881.11341         618465.52188         625210.07147   \n",
            "36         474728.97015         480639.43793         485262.42628   \n",
            "37                  NaN                  NaN                  NaN   \n",
            "38         153640.51742         155482.06349         160551.61123   \n",
            "39         207194.15157           209617.265         214477.36794   \n",
            "40         203695.90625         204712.60719         208026.49123   \n",
            "41         239750.78172         243863.32647         245771.22267   \n",
            "42         243876.36283         244014.47048         252044.55233   \n",
            "43         346689.74602         350235.34528         354932.28753   \n",
            "44         524467.52843         532626.69019         540741.01235   \n",
            "45         384583.30464         388738.35297         394738.23296   \n",
            "46         321695.03802         321398.17743         329123.42008   \n",
            "47                  NaN                  NaN                  NaN   \n",
            "48         299916.33247         302633.86745         308375.19641   \n",
            "\n",
            "0   2022-08-01 00:00:00  2022-09-01 00:00:00  2022-10-01 00:00:00  \\\n",
            "0   2022-08-01 00:00:00  2022-09-01 00:00:00  2022-10-01 00:00:00   \n",
            "1          827263.45864         798952.26179         847145.43392   \n",
            "2           349490.5043         349998.49435          355205.6703   \n",
            "3          598728.88783         603197.24048          598389.1354   \n",
            "4          403542.57044         403388.15587         409595.39249   \n",
            "5          560870.73572         583298.26696         580215.08846   \n",
            "6          512705.31022         516153.54001         523083.27164   \n",
            "7          866072.69068         855268.80541         843445.80037   \n",
            "8          426400.97523         432494.23272         432431.04111   \n",
            "9          531255.87677         537117.27594          543325.5324   \n",
            "10         452618.59278         456951.99233         463200.35599   \n",
            "11         435798.74991         441439.63826         445280.68486   \n",
            "12         652784.15615         655727.87023         656516.18115   \n",
            "13         801639.68901         802095.84143         781109.40628   \n",
            "14         601077.82305         621848.85262         619059.91087   \n",
            "15         538368.42954         535897.49377         531843.13624   \n",
            "16         424876.00889         431570.42285         434050.10862   \n",
            "17         461433.96368         468255.84108         479114.76671   \n",
            "18         453699.03372          457083.6454         460252.82796   \n",
            "19         728449.71814         748732.23711         741705.75359   \n",
            "20         1433855.2614         1459747.2111         1355422.1556   \n",
            "21         554609.08555         567620.67986         576341.52582   \n",
            "22         557311.88863         558384.58107         554044.50115   \n",
            "23         472954.20654         470063.03204         465888.60591   \n",
            "24         583235.73908         592181.66614         587010.24234   \n",
            "25         414613.78391         419025.82795         423410.94743   \n",
            "26         486446.87784         485914.09877          488543.9898   \n",
            "27         769149.48364         773999.09126         781115.23999   \n",
            "28         559064.90296         562136.56367         558040.21062   \n",
            "29         443034.23275         446500.07341         445194.09835   \n",
            "30          475969.5104         485422.50097         489437.43573   \n",
            "31         521992.12313         525012.74531         525588.38099   \n",
            "32         661326.92572         664458.21743         658414.41348   \n",
            "33         980820.47312         939846.23052         945112.25952   \n",
            "34                  NaN                  NaN                  NaN   \n",
            "35         633851.46533         636963.50234         631484.45648   \n",
            "36         491979.34874          496942.5956         499917.06706   \n",
            "37                  NaN                  NaN                  NaN   \n",
            "38         162301.45527         164649.25338         167001.77334   \n",
            "39         216896.50429         219272.36932          220314.4209   \n",
            "40         211076.53526         213308.04315         213818.61214   \n",
            "41         251218.42797         252892.81361         252924.03075   \n",
            "42         253086.17922         255320.53595         257224.83657   \n",
            "43         359869.08032         362731.95452         362899.80314   \n",
            "44         546572.73626         545836.82679         541684.65676   \n",
            "45         400731.52995         404579.11689         404344.88296   \n",
            "46         335151.85335         337033.91203         338211.72354   \n",
            "47                  NaN                  NaN                  NaN   \n",
            "48         312608.15924         315049.33872         315578.46557   \n",
            "\n",
            "0   2022-11-01 00:00:00  \n",
            "0   2022-11-01 00:00:00  \n",
            "1          935731.90624  \n",
            "2          359766.13814  \n",
            "3          585172.92015  \n",
            "4          408113.57717  \n",
            "5          576102.60656  \n",
            "6           525145.1568  \n",
            "7          848175.15466  \n",
            "8          430294.62379  \n",
            "9          546534.85697  \n",
            "10         463876.98314  \n",
            "11          445576.8847  \n",
            "12         653045.85891  \n",
            "13         737402.49479  \n",
            "14         627514.96968  \n",
            "15         526805.75513  \n",
            "16         440446.51055  \n",
            "17         488425.68562  \n",
            "18         468882.69792  \n",
            "19         713205.47199  \n",
            "20         1349778.3806  \n",
            "21         576396.23026  \n",
            "22         553423.81863  \n",
            "23         472336.32843  \n",
            "24         582370.15054  \n",
            "25         421036.21219  \n",
            "26         492711.83266  \n",
            "27          764788.7273  \n",
            "28         564803.74545  \n",
            "29         447067.21538  \n",
            "30         487224.93102  \n",
            "31         524111.23272  \n",
            "32         643910.41623  \n",
            "33         934508.24185  \n",
            "34                  NaN  \n",
            "35         626889.66107  \n",
            "36         499969.57194  \n",
            "37                  NaN  \n",
            "38         162596.44579  \n",
            "39          221223.6972  \n",
            "40         212329.45699  \n",
            "41         253498.33909  \n",
            "42          256937.2398  \n",
            "43         365144.26862  \n",
            "44         542310.89724  \n",
            "45         402466.09073  \n",
            "46          337144.1219  \n",
            "47                  NaN  \n",
            "48         315072.63643  \n",
            "\n",
            "[49 rows x 337 columns]>\n"
          ]
        }
      ]
    },
    {
      "cell_type": "markdown",
      "metadata": {
        "id": "o1uLbJAsoIjK"
      },
      "source": [
        "**2.3. Cleaning the data (part 2)**\n",
        "\n",
        "You might we have to **rename** a couple columns. How do you do this? The clue's pretty bold..."
      ]
    },
    {
      "cell_type": "code",
      "metadata": {
        "id": "GKkmn1AnoVZS"
      },
      "source": [
        "ni_props.rename(columns = {'Unnamed: 0':'borrough'}, inplace = True)"
      ],
      "execution_count": 71,
      "outputs": []
    },
    {
      "cell_type": "code",
      "source": [
        "# ni_props.drop(index=ni_props.index[0], axis=0, inplace=True)\n",
        "print(ni_props.head())"
      ],
      "metadata": {
        "colab": {
          "base_uri": "https://localhost:8080/"
        },
        "id": "ImX5cdsxg9GR",
        "outputId": "f545a12c-ea92-4dde-effb-4d390a79764b"
      },
      "execution_count": 72,
      "outputs": [
        {
          "output_type": "stream",
          "name": "stdout",
          "text": [
            "0            borrough        NaN 1995-01-01 00:00:00 1995-02-01 00:00:00  \\\n",
            "1      City of London  E09000001         91448.98487         82202.77314   \n",
            "2  Barking & Dagenham  E09000002          50460.2266         51085.77983   \n",
            "3              Barnet  E09000003         93284.51832         93190.16963   \n",
            "4              Bexley  E09000004         64958.09036         64787.92069   \n",
            "5               Brent  E09000005         71306.56698         72022.26197   \n",
            "\n",
            "0 1995-03-01 00:00:00 1995-04-01 00:00:00 1995-05-01 00:00:00  \\\n",
            "1         79120.70256         77101.20804         84409.14932   \n",
            "2         51268.96956         53133.50526         53042.24852   \n",
            "3         92247.52435         90762.87492         90258.00033   \n",
            "4         64367.49344         64277.66881         63997.13588   \n",
            "5         72015.76274         72965.63094         73704.04743   \n",
            "\n",
            "0 1995-06-01 00:00:00 1995-07-01 00:00:00 1995-08-01 00:00:00  ...  \\\n",
            "1         94900.51244         110128.0423         112329.4376  ...   \n",
            "2         53700.34831         52113.12157         52232.19868  ...   \n",
            "3         90107.23471         91441.24768         92361.31512  ...   \n",
            "4         64252.32335         63722.70055         64432.60005  ...   \n",
            "5         74310.48167         74127.03788          73547.0411  ...   \n",
            "\n",
            "0 2022-02-01 00:00:00 2022-03-01 00:00:00 2022-04-01 00:00:00  \\\n",
            "1        849362.10359        824133.84749        816422.34262   \n",
            "2        338140.92018        338630.76578         334154.4325   \n",
            "3        569623.80083        572378.86549        581748.16762   \n",
            "4        382615.07011        386187.71672        384938.87516   \n",
            "5        511369.12919        510197.10529        521597.06535   \n",
            "\n",
            "0 2022-05-01 00:00:00 2022-06-01 00:00:00 2022-07-01 00:00:00  \\\n",
            "1        803547.89146         827409.5555        811816.90685   \n",
            "2        336216.34247        344634.40197        348406.19705   \n",
            "3         588134.0976        593149.67956        591298.17908   \n",
            "4        386486.54544        392123.23696        396178.74246   \n",
            "5        529215.55293        528435.52216        546369.73667   \n",
            "\n",
            "0 2022-08-01 00:00:00 2022-09-01 00:00:00 2022-10-01 00:00:00  \\\n",
            "1        827263.45864        798952.26179        847145.43392   \n",
            "2         349490.5043        349998.49435         355205.6703   \n",
            "3        598728.88783        603197.24048         598389.1354   \n",
            "4        403542.57044        403388.15587        409595.39249   \n",
            "5        560870.73572        583298.26696        580215.08846   \n",
            "\n",
            "0 2022-11-01 00:00:00  \n",
            "1        935731.90624  \n",
            "2        359766.13814  \n",
            "3        585172.92015  \n",
            "4        408113.57717  \n",
            "5        576102.60656  \n",
            "\n",
            "[5 rows x 337 columns]\n"
          ]
        }
      ]
    },
    {
      "cell_type": "code",
      "source": [
        "prop_cols = ni_props.columns.fillna('id')\n",
        "ni_props.columns = prop_cols\n",
        "print(ni_props.columns)\n"
      ],
      "metadata": {
        "colab": {
          "base_uri": "https://localhost:8080/"
        },
        "id": "gpDLuzkYg8yR",
        "outputId": "e2b2d8a1-e79f-4ede-bfec-54a4e7b5cc0d"
      },
      "execution_count": 98,
      "outputs": [
        {
          "output_type": "stream",
          "name": "stdout",
          "text": [
            "Index([         'borrough',                'id', 1995-01-01 00:00:00,\n",
            "       1995-02-01 00:00:00, 1995-03-01 00:00:00, 1995-04-01 00:00:00,\n",
            "       1995-05-01 00:00:00, 1995-06-01 00:00:00, 1995-07-01 00:00:00,\n",
            "       1995-08-01 00:00:00,\n",
            "       ...\n",
            "       2022-02-01 00:00:00, 2022-03-01 00:00:00, 2022-04-01 00:00:00,\n",
            "       2022-05-01 00:00:00, 2022-06-01 00:00:00, 2022-07-01 00:00:00,\n",
            "       2022-08-01 00:00:00, 2022-09-01 00:00:00, 2022-10-01 00:00:00,\n",
            "       2022-11-01 00:00:00],\n",
            "      dtype='object', name=0, length=337)\n"
          ]
        }
      ]
    },
    {
      "cell_type": "markdown",
      "metadata": {
        "id": "jy8BzXHmoWEw"
      },
      "source": [
        "**2.4.Transforming the data**\n",
        "\n",
        "Remember what Wes McKinney said about tidy data? \n",
        "\n",
        "You might need to **melt** your DataFrame here. "
      ]
    },
    {
      "cell_type": "code",
      "metadata": {
        "id": "S2wM0qLuo2Zt",
        "colab": {
          "base_uri": "https://localhost:8080/"
        },
        "outputId": "ec07600b-23bb-4922-dcda-a8e1d8ad0522"
      },
      "source": [
        "prop_melt = ni_props.melt(id_vars=['borrough', 'id'], var_name='date')\n",
        "print(prop_melt.head())"
      ],
      "execution_count": 101,
      "outputs": [
        {
          "output_type": "stream",
          "name": "stdout",
          "text": [
            "             borrough         id       date        value\n",
            "0      City of London  E09000001 1995-01-01  91448.98487\n",
            "1  Barking & Dagenham  E09000002 1995-01-01   50460.2266\n",
            "2              Barnet  E09000003 1995-01-01  93284.51832\n",
            "3              Bexley  E09000004 1995-01-01  64958.09036\n",
            "4               Brent  E09000005 1995-01-01  71306.56698\n"
          ]
        }
      ]
    },
    {
      "cell_type": "markdown",
      "metadata": {
        "id": "7kIsgAo7o3mf"
      },
      "source": [
        "Remember to make sure your column data types are all correct. Average prices, for example, should be floating point numbers... "
      ]
    },
    {
      "cell_type": "code",
      "metadata": {
        "id": "ZcR4IHbcpOaq",
        "colab": {
          "base_uri": "https://localhost:8080/"
        },
        "outputId": "fa586b8a-d8f2-49a1-aaa8-396dac8d5104"
      },
      "source": [
        "type(prop_melt['id'][0])"
      ],
      "execution_count": 106,
      "outputs": [
        {
          "output_type": "execute_result",
          "data": {
            "text/plain": [
              "str"
            ]
          },
          "metadata": {},
          "execution_count": 106
        }
      ]
    },
    {
      "cell_type": "markdown",
      "metadata": {
        "id": "knLUXHLypOtw"
      },
      "source": [
        "**2.5. Cleaning the data (part 3)**\n",
        "\n",
        "Do we have an equal number of observations in the ID, Average Price, Month, and London Borough columns? Remember that there are only 32 London Boroughs. How many entries do you have in that column? \n",
        "\n",
        "Check out the contents of the London Borough column, and if you find null values, get rid of them however you see fit. "
      ]
    },
    {
      "cell_type": "code",
      "source": [
        "prop_melt['borrough'][0]"
      ],
      "metadata": {
        "colab": {
          "base_uri": "https://localhost:8080/",
          "height": 36
        },
        "id": "eKfoB5y8w0jW",
        "outputId": "d504ebf5-c629-4579-96af-7c1b82810534"
      },
      "execution_count": 169,
      "outputs": [
        {
          "output_type": "execute_result",
          "data": {
            "text/plain": [
              "'City of London'"
            ],
            "application/vnd.google.colaboratory.intrinsic+json": {
              "type": "string"
            }
          },
          "metadata": {},
          "execution_count": 169
        }
      ]
    },
    {
      "cell_type": "code",
      "metadata": {
        "id": "BnvTW5a3p0fC",
        "colab": {
          "base_uri": "https://localhost:8080/"
        },
        "outputId": "5605106a-5e5d-44c3-c4f6-a4c89fc0b1b9"
      },
      "source": [
        "# for x in range(0, 16080):\n",
        "#   if \"Unnamed\" in prop_melt.loc[x][0]:\n",
        "#     print(prop_melt.loc[x][0])\n",
        "\n",
        "print(prop_melt)"
      ],
      "execution_count": 160,
      "outputs": [
        {
          "output_type": "stream",
          "name": "stdout",
          "text": [
            "                 borrough         id       date         value\n",
            "0          City of London  E09000001 1995-01-01   91448.98487\n",
            "1      Barking & Dagenham  E09000002 1995-01-01    50460.2266\n",
            "2                  Barnet  E09000003 1995-01-01   93284.51832\n",
            "3                  Bexley  E09000004 1995-01-01   64958.09036\n",
            "4                   Brent  E09000005 1995-01-01   71306.56698\n",
            "...                   ...        ...        ...           ...\n",
            "16074     EAST OF ENGLAND  E12000006 2022-11-01  365144.26862\n",
            "16075              LONDON  E12000007 2022-11-01  542310.89724\n",
            "16076          SOUTH EAST  E12000008 2022-11-01  402466.09073\n",
            "16077          SOUTH WEST  E12000009 2022-11-01   337144.1219\n",
            "16079             England  E92000001 2022-11-01  315072.63643\n",
            "\n",
            "[15075 rows x 4 columns]\n"
          ]
        }
      ]
    },
    {
      "cell_type": "markdown",
      "metadata": {
        "id": "PGEx6mJsp6dG"
      },
      "source": [
        "**2.6. Visualizing the data**\n",
        "\n",
        "To visualize the data, why not subset on a particular London Borough? Maybe do a line plot of Month against Average Price?"
      ]
    },
    {
      "cell_type": "code",
      "metadata": {
        "id": "nAg5pT9cqHAR"
      },
      "source": [
        "london = prop_melt[prop_melt['borrough']=='LONDON']"
      ],
      "execution_count": 173,
      "outputs": []
    },
    {
      "cell_type": "markdown",
      "metadata": {
        "id": "aWTPqSJeqHnC"
      },
      "source": [
        "To limit the number of data points you have, you might want to extract the year from every month value your *Month* column. \n",
        "\n",
        "To this end, you *could* apply a ***lambda function***. Your logic could work as follows:\n",
        "1. look through the `Month` column\n",
        "2. extract the year from each individual value in that column \n",
        "3. store that corresponding year as separate column. \n",
        "\n",
        "Whether you go ahead with this is up to you. Just so long as you answer our initial brief: which boroughs of London have seen the greatest house price increase, on average, over the past two decades? "
      ]
    },
    {
      "cell_type": "code",
      "metadata": {
        "id": "e0DF92cyqnu8",
        "colab": {
          "base_uri": "https://localhost:8080/"
        },
        "outputId": "9cd54631-8c1d-4c29-8812-c907d76395bc"
      },
      "source": [
        "years = []\n",
        "for date in prop_melt['date']:\n",
        "  \n",
        "  years.append(date.year)\n",
        "\n",
        "\n",
        "prop_melt['year'] = years\n",
        "print(prop_melt)"
      ],
      "execution_count": 180,
      "outputs": [
        {
          "output_type": "stream",
          "name": "stdout",
          "text": [
            "                 borrough         id       date         value  year\n",
            "0          City of London  E09000001 1995-01-01   91448.98487  1995\n",
            "1      Barking & Dagenham  E09000002 1995-01-01    50460.2266  1995\n",
            "2                  Barnet  E09000003 1995-01-01   93284.51832  1995\n",
            "3                  Bexley  E09000004 1995-01-01   64958.09036  1995\n",
            "4                   Brent  E09000005 1995-01-01   71306.56698  1995\n",
            "...                   ...        ...        ...           ...   ...\n",
            "16074     EAST OF ENGLAND  E12000006 2022-11-01  365144.26862  2022\n",
            "16075              LONDON  E12000007 2022-11-01  542310.89724  2022\n",
            "16076          SOUTH EAST  E12000008 2022-11-01  402466.09073  2022\n",
            "16077          SOUTH WEST  E12000009 2022-11-01   337144.1219  2022\n",
            "16079             England  E92000001 2022-11-01  315072.63643  2022\n",
            "\n",
            "[15075 rows x 5 columns]\n"
          ]
        }
      ]
    },
    {
      "cell_type": "code",
      "source": [
        "dfg = prop_melt[(prop_melt['year']>1997) & (prop_melt['year']<2019)]\n",
        "print(dfg)"
      ],
      "metadata": {
        "colab": {
          "base_uri": "https://localhost:8080/"
        },
        "id": "hFKmdZjF3PWF",
        "outputId": "6e9776a7-0486-40c1-975b-4d93f4d9610d"
      },
      "execution_count": 187,
      "outputs": [
        {
          "output_type": "stream",
          "name": "stdout",
          "text": [
            "                 borrough         id       date         value  year\n",
            "1728       City of London  E09000001 1998-01-01   124381.6148  1998\n",
            "1729   Barking & Dagenham  E09000002 1998-01-01   57558.99414  1998\n",
            "1730               Barnet  E09000003 1998-01-01   115902.4103  1998\n",
            "1731               Bexley  E09000004 1998-01-01   76863.45528  1998\n",
            "1732                Brent  E09000005 1998-01-01   93745.96395  1998\n",
            "...                   ...        ...        ...           ...   ...\n",
            "13818     EAST OF ENGLAND  E12000006 2018-12-01  290885.66326  2018\n",
            "13819              LONDON  E12000007 2018-12-01  473454.32262  2018\n",
            "13820          SOUTH EAST  E12000008 2018-12-01  321264.82936  2018\n",
            "13821          SOUTH WEST  E12000009 2018-12-01  256811.90106  2018\n",
            "13823             England  E92000001 2018-12-01  246518.47281  2018\n",
            "\n",
            "[11340 rows x 5 columns]\n"
          ]
        }
      ]
    },
    {
      "cell_type": "markdown",
      "metadata": {
        "id": "2knuTxAEqoJ4"
      },
      "source": [
        "**3. Modeling**\n",
        "\n",
        "Consider creating a function that will calculate a ratio of house prices, comparing the price of a house in 2018 to the price in 1998.\n",
        "\n",
        "Consider calling this function create_price_ratio.\n",
        "\n",
        "You'd want this function to:\n",
        "1. Take a filter of dfg, specifically where this filter constrains the London_Borough, as an argument. For example, one admissible argument should be: dfg[dfg['London_Borough']=='Camden'].\n",
        "2. Get the Average Price for that Borough, for the years 1998 and 2018.\n",
        "4. Calculate the ratio of the Average Price for 1998 divided by the Average Price for 2018.\n",
        "5. Return that ratio.\n",
        "\n",
        "Once you've written this function, you ultimately want to use it to iterate through all the unique London_Boroughs and work out the ratio capturing the difference of house prices between 1998 and 2018.\n",
        "\n",
        "Bear in mind: you don't have to write a function like this if you don't want to. If you can solve the brief otherwise, then great! \n",
        "\n",
        "***Hint***: This section should test the skills you acquired in:\n",
        "- Python Data Science Toolbox - Part One, all modules"
      ]
    },
    {
      "cell_type": "code",
      "metadata": {
        "id": "cKTyr437UgDa"
      },
      "source": [
        "def create_price_ratio(borrough):\n",
        "  x = dfg[dfg['borrough'] == borrough]\n",
        "  x_1998 = x[x['year']==1998]\n",
        "  x_2008 = x[x['year']==2008]\n",
        "  x_1998_avg = x_1998['value'].mean()\n",
        "  x_2008_avg = x_2008['value'].mean()\n",
        "  ratio = x_1998_avg / x_2008_avg\n",
        "  return ratio"
      ],
      "execution_count": 193,
      "outputs": []
    },
    {
      "cell_type": "code",
      "source": [
        "def unique(list1):\n",
        "    x = np.array(list1)\n",
        "    return np.unique(x)"
      ],
      "metadata": {
        "id": "laagLGfV6-TJ"
      },
      "execution_count": 201,
      "outputs": []
    },
    {
      "cell_type": "code",
      "source": [
        "unique_dfg = unique(dfg['borrough'])"
      ],
      "metadata": {
        "id": "C3iorJI07y49"
      },
      "execution_count": 204,
      "outputs": []
    },
    {
      "cell_type": "code",
      "source": [
        "ratios = {}\n",
        "for borrough in unique_dfg:\n",
        "  ratio = create_price_ratio(borrough)\n",
        "  ratios[borrough] = ratio\n",
        "\n",
        "print(ratios)"
      ],
      "metadata": {
        "colab": {
          "base_uri": "https://localhost:8080/"
        },
        "id": "tHVGZXQU8v_E",
        "outputId": "14e6b248-d6ef-463c-b901-976d3408818d"
      },
      "execution_count": 210,
      "outputs": [
        {
          "output_type": "stream",
          "name": "stdout",
          "text": [
            "{'Barking & Dagenham': 0.32177001270425915, 'Barnet': 0.3707600738136913, 'Bexley': 0.3835981634445487, 'Brent': 0.34394489420169505, 'Bromley': 0.3899020161993073, 'Camden': 0.3405448142414439, 'City of London': 0.3464381370780818, 'Croydon': 0.37349046990716633, 'EAST MIDLANDS': 0.3551968375279878, 'EAST OF ENGLAND': 0.3568290503218993, 'Ealing': 0.37701956135723785, 'Enfield': 0.3784187955011712, 'England': 0.3525701352685911, 'Greenwich': 0.3527484309055493, 'Hackney': 0.2818404179980568, 'Hammersmith & Fulham': 0.36917938225638547, 'Haringey': 0.35405813093120414, 'Harrow': 0.3895409073799409, 'Havering': 0.3698133914405386, 'Hillingdon': 0.38217363943900784, 'Hounslow': 0.3793412375329856, 'Inner London': 0.3328434290782414, 'Islington': 0.34682425034734404, 'Kensington & Chelsea': 0.3419193076093095, 'Kingston upon Thames': 0.37500359194579197, 'LONDON': 0.3608671476409686, 'Lambeth': 0.3491963769952372, 'Lewisham': 0.3266078290992342, 'Merton': 0.3593582252682042, 'NORTH EAST': 0.34645633214590543, 'NORTH WEST': 0.3354704363816149, 'Newham': 0.30514387891246486, 'Outer London': 0.3687318988373387, 'Redbridge': 0.35742762973053643, 'Richmond upon Thames': 0.3980469842377658, 'SOUTH EAST': 0.37999739588126114, 'SOUTH WEST': 0.3430430609680666, 'Southwark': 0.3138770390089378, 'Sutton': 0.37942447755061576, 'Tower Hamlets': 0.32384043374707655, 'WEST MIDLANDS': 0.3667347663055683, 'Waltham Forest': 0.32443908460990073, 'Wandsworth': 0.34469692536125385, 'Westminster': 0.35270850594220826, 'YORKS & THE HUMBER': 0.3372421939272396}\n"
          ]
        }
      ]
    },
    {
      "cell_type": "code",
      "source": [
        "ratio_list = []\n",
        "for borrough in unique_dfg:\n",
        "  ratio = create_price_ratio(borrough)\n",
        "  ratio_list.append(ratio)"
      ],
      "metadata": {
        "id": "1mnGQqLI_Siy"
      },
      "execution_count": 217,
      "outputs": []
    },
    {
      "cell_type": "code",
      "source": [
        "plt.bar(x=unique_dfg, height=ratio_list)\n",
        "plt.show"
      ],
      "metadata": {
        "colab": {
          "base_uri": "https://localhost:8080/",
          "height": 282
        },
        "id": "8JJsLWtV93gA",
        "outputId": "22a92b8f-e4fb-4d0f-e35b-ddb47512dcea"
      },
      "execution_count": 218,
      "outputs": [
        {
          "output_type": "execute_result",
          "data": {
            "text/plain": [
              "<function matplotlib.pyplot.show(*args, **kw)>"
            ]
          },
          "metadata": {},
          "execution_count": 218
        },
        {
          "output_type": "display_data",
          "data": {
            "text/plain": [
              "<Figure size 432x288 with 1 Axes>"
            ],
            "image/png": "[encoded data removed]"
          },
          "metadata": {
            "needs_background": "light"
          }
        }
      ]
    },
    {
      "cell_type": "code",
      "source": [
        "ratio_df = pd.DataFrame(data=ratios, index=[0])\n",
        "t_df = ratio_df.transpose()\n",
        "t_df.sort_values(0, ascending=False)"
      ],
      "metadata": {
        "colab": {
          "base_uri": "https://localhost:8080/",
          "height": 1000
        },
        "id": "BP__JRxA_pON",
        "outputId": "6a837d73-6a01-4f7a-8e4e-674270cb93b1"
      },
      "execution_count": 227,
      "outputs": [
        {
          "output_type": "execute_result",
          "data": {
            "text/plain": [
              "                             0\n",
              "Richmond upon Thames  0.398047\n",
              "Bromley               0.389902\n",
              "Harrow                0.389541\n",
              "Bexley                0.383598\n",
              "Hillingdon            0.382174\n",
              "SOUTH EAST            0.379997\n",
              "Sutton                0.379424\n",
              "Hounslow              0.379341\n",
              "Enfield               0.378419\n",
              "Ealing                0.377020\n",
              "Kingston upon Thames  0.375004\n",
              "Croydon               0.373490\n",
              "Barnet                0.370760\n",
              "Havering              0.369813\n",
              "Hammersmith & Fulham  0.369179\n",
              "Outer London          0.368732\n",
              "WEST MIDLANDS         0.366735\n",
              "LONDON                0.360867\n",
              "Merton                0.359358\n",
              "Redbridge             0.357428\n",
              "EAST OF ENGLAND       0.356829\n",
              "EAST MIDLANDS         0.355197\n",
              "Haringey              0.354058\n",
              "Greenwich             0.352748\n",
              "Westminster           0.352709\n",
              "England               0.352570\n",
              "Lambeth               0.349196\n",
              "Islington             0.346824\n",
              "NORTH EAST            0.346456\n",
              "City of London        0.346438\n",
              "Wandsworth            0.344697\n",
              "Brent                 0.343945\n",
              "SOUTH WEST            0.343043\n",
              "Kensington & Chelsea  0.341919\n",
              "Camden                0.340545\n",
              "YORKS & THE HUMBER    0.337242\n",
              "NORTH WEST            0.335470\n",
              "Inner London          0.332843\n",
              "Lewisham              0.326608\n",
              "Waltham Forest        0.324439\n",
              "Tower Hamlets         0.323840\n",
              "Barking & Dagenham    0.321770\n",
              "Southwark             0.313877\n",
              "Newham                0.305144\n",
              "Hackney               0.281840"
            ],
            "text/html": [
              "\n",
              "  <div id=\"df-d9facba8-213d-4c9e-aa0b-1146ab6f0d74\">\n",
              "    <div class=\"colab-df-container\">\n",
              "      <div>\n",
              "<style scoped>\n",
              "    .dataframe tbody tr th:only-of-type {\n",
              "        vertical-align: middle;\n",
              "    }\n",
              "\n",
              "    .dataframe tbody tr th {\n",
              "        vertical-align: top;\n",
              "    }\n",
              "\n",
              "    .dataframe thead th {\n",
              "        text-align: right;\n",
              "    }\n",
              "</style>\n",
              "<table border=\"1\" class=\"dataframe\">\n",
              "  <thead>\n",
              "    <tr style=\"text-align: right;\">\n",
              "      <th></th>\n",
              "      <th>0</th>\n",
              "    </tr>\n",
              "  </thead>\n",
              "  <tbody>\n",
              "    <tr>\n",
              "      <th>Richmond upon Thames</th>\n",
              "      <td>0.398047</td>\n",
              "    </tr>\n",
              "    <tr>\n",
              "      <th>Bromley</th>\n",
              "      <td>0.389902</td>\n",
              "    </tr>\n",
              "    <tr>\n",
              "      <th>Harrow</th>\n",
              "      <td>0.389541</td>\n",
              "    </tr>\n",
              "    <tr>\n",
              "      <th>Bexley</th>\n",
              "      <td>0.383598</td>\n",
              "    </tr>\n",
              "    <tr>\n",
              "      <th>Hillingdon</th>\n",
              "      <td>0.382174</td>\n",
              "    </tr>\n",
              "    <tr>\n",
              "      <th>SOUTH EAST</th>\n",
              "      <td>0.379997</td>\n",
              "    </tr>\n",
              "    <tr>\n",
              "      <th>Sutton</th>\n",
              "      <td>0.379424</td>\n",
              "    </tr>\n",
              "    <tr>\n",
              "      <th>Hounslow</th>\n",
              "      <td>0.379341</td>\n",
              "    </tr>\n",
              "    <tr>\n",
              "      <th>Enfield</th>\n",
              "      <td>0.378419</td>\n",
              "    </tr>\n",
              "    <tr>\n",
              "      <th>Ealing</th>\n",
              "      <td>0.377020</td>\n",
              "    </tr>\n",
              "    <tr>\n",
              "      <th>Kingston upon Thames</th>\n",
              "      <td>0.375004</td>\n",
              "    </tr>\n",
              "    <tr>\n",
              "      <th>Croydon</th>\n",
              "      <td>0.373490</td>\n",
              "    </tr>\n",
              "    <tr>\n",
              "      <th>Barnet</th>\n",
              "      <td>0.370760</td>\n",
              "    </tr>\n",
              "    <tr>\n",
              "      <th>Havering</th>\n",
              "      <td>0.369813</td>\n",
              "    </tr>\n",
              "    <tr>\n",
              "      <th>Hammersmith &amp; Fulham</th>\n",
              "      <td>0.369179</td>\n",
              "    </tr>\n",
              "    <tr>\n",
              "      <th>Outer London</th>\n",
              "      <td>0.368732</td>\n",
              "    </tr>\n",
              "    <tr>\n",
              "      <th>WEST MIDLANDS</th>\n",
              "      <td>0.366735</td>\n",
              "    </tr>\n",
              "    <tr>\n",
              "      <th>LONDON</th>\n",
              "      <td>0.360867</td>\n",
              "    </tr>\n",
              "    <tr>\n",
              "      <th>Merton</th>\n",
              "      <td>0.359358</td>\n",
              "    </tr>\n",
              "    <tr>\n",
              "      <th>Redbridge</th>\n",
              "      <td>0.357428</td>\n",
              "    </tr>\n",
              "    <tr>\n",
              "      <th>EAST OF ENGLAND</th>\n",
              "      <td>0.356829</td>\n",
              "    </tr>\n",
              "    <tr>\n",
              "      <th>EAST MIDLANDS</th>\n",
              "      <td>0.355197</td>\n",
              "    </tr>\n",
              "    <tr>\n",
              "      <th>Haringey</th>\n",
              "      <td>0.354058</td>\n",
              "    </tr>\n",
              "    <tr>\n",
              "      <th>Greenwich</th>\n",
              "      <td>0.352748</td>\n",
              "    </tr>\n",
              "    <tr>\n",
              "      <th>Westminster</th>\n",
              "      <td>0.352709</td>\n",
              "    </tr>\n",
              "    <tr>\n",
              "      <th>England</th>\n",
              "      <td>0.352570</td>\n",
              "    </tr>\n",
              "    <tr>\n",
              "      <th>Lambeth</th>\n",
              "      <td>0.349196</td>\n",
              "    </tr>\n",
              "    <tr>\n",
              "      <th>Islington</th>\n",
              "      <td>0.346824</td>\n",
              "    </tr>\n",
              "    <tr>\n",
              "      <th>NORTH EAST</th>\n",
              "      <td>0.346456</td>\n",
              "    </tr>\n",
              "    <tr>\n",
              "      <th>City of London</th>\n",
              "      <td>0.346438</td>\n",
              "    </tr>\n",
              "    <tr>\n",
              "      <th>Wandsworth</th>\n",
              "      <td>0.344697</td>\n",
              "    </tr>\n",
              "    <tr>\n",
              "      <th>Brent</th>\n",
              "      <td>0.343945</td>\n",
              "    </tr>\n",
              "    <tr>\n",
              "      <th>SOUTH WEST</th>\n",
              "      <td>0.343043</td>\n",
              "    </tr>\n",
              "    <tr>\n",
              "      <th>Kensington &amp; Chelsea</th>\n",
              "      <td>0.341919</td>\n",
              "    </tr>\n",
              "    <tr>\n",
              "      <th>Camden</th>\n",
              "      <td>0.340545</td>\n",
              "    </tr>\n",
              "    <tr>\n",
              "      <th>YORKS &amp; THE HUMBER</th>\n",
              "      <td>0.337242</td>\n",
              "    </tr>\n",
              "    <tr>\n",
              "      <th>NORTH WEST</th>\n",
              "      <td>0.335470</td>\n",
              "    </tr>\n",
              "    <tr>\n",
              "      <th>Inner London</th>\n",
              "      <td>0.332843</td>\n",
              "    </tr>\n",
              "    <tr>\n",
              "      <th>Lewisham</th>\n",
              "      <td>0.326608</td>\n",
              "    </tr>\n",
              "    <tr>\n",
              "      <th>Waltham Forest</th>\n",
              "      <td>0.324439</td>\n",
              "    </tr>\n",
              "    <tr>\n",
              "      <th>Tower Hamlets</th>\n",
              "      <td>0.323840</td>\n",
              "    </tr>\n",
              "    <tr>\n",
              "      <th>Barking &amp; Dagenham</th>\n",
              "      <td>0.321770</td>\n",
              "    </tr>\n",
              "    <tr>\n",
              "      <th>Southwark</th>\n",
              "      <td>0.313877</td>\n",
              "    </tr>\n",
              "    <tr>\n",
              "      <th>Newham</th>\n",
              "      <td>0.305144</td>\n",
              "    </tr>\n",
              "    <tr>\n",
              "      <th>Hackney</th>\n",
              "      <td>0.281840</td>\n",
              "    </tr>\n",
              "  </tbody>\n",
              "</table>\n",
              "</div>\n",
              "      <button class=\"colab-df-convert\" onclick=\"convertToInteractive('df-d9facba8-213d-4c9e-aa0b-1146ab6f0d74')\"\n",
              "              title=\"Convert this dataframe to an interactive table.\"\n",
              "              style=\"display:none;\">\n",
              "        \n",
              "  <svg xmlns=\"http://www.w3.org/2000/svg\" height=\"24px\"viewBox=\"0 0 24 24\"\n",
              "       width=\"24px\">\n",
              "    <path d=\"M0 0h24v24H0V0z\" fill=\"none\"/>\n",
              "    <path d=\"M18.56 5.44l.94 2.06.94-2.06 2.06-.94-2.06-.94-.94-2.06-.94 2.06-2.06.94zm-11 1L8.5 8.5l.94-2.06 2.06-.94-2.06-.94L8.5 2.5l-.94 2.06-2.06.94zm10 10l.94 2.06.94-2.06 2.06-.94-2.06-.94-.94-2.06-.94 2.06-2.06.94z\"/><path d=\"M17.41 7.96l-1.37-1.37c-.4-.4-.92-.59-1.43-.59-.52 0-1.04.2-1.43.59L10.3 9.45l-7.72 7.72c-.78.78-.78 2.05 0 2.83L4 21.41c.39.39.9.59 1.41.59.51 0 1.02-.2 1.41-.59l7.78-7.78 2.81-2.81c.8-.78.8-2.07 0-2.86zM5.41 20L4 18.59l7.72-7.72 1.47 1.35L5.41 20z\"/>\n",
              "  </svg>\n",
              "      </button>\n",
              "      \n",
              "  <style>\n",
              "    .colab-df-container {\n",
              "      display:flex;\n",
              "      flex-wrap:wrap;\n",
              "      gap: 12px;\n",
              "    }\n",
              "\n",
              "    .colab-df-convert {\n",
              "      background-color: #E8F0FE;\n",
              "      border: none;\n",
              "      border-radius: 50%;\n",
              "      cursor: pointer;\n",
              "      display: none;\n",
              "      fill: #1967D2;\n",
              "      height: 32px;\n",
              "      padding: 0 0 0 0;\n",
              "      width: 32px;\n",
              "    }\n",
              "\n",
              "    .colab-df-convert:hover {\n",
              "      background-color: #E2EBFA;\n",
              "      box-shadow: 0px 1px 2px rgba(60, 64, 67, 0.3), 0px 1px 3px 1px rgba(60, 64, 67, 0.15);\n",
              "      fill: #174EA6;\n",
              "    }\n",
              "\n",
              "    [theme=dark] .colab-df-convert {\n",
              "      background-color: #3B4455;\n",
              "      fill: #D2E3FC;\n",
              "    }\n",
              "\n",
              "    [theme=dark] .colab-df-convert:hover {\n",
              "      background-color: #434B5C;\n",
              "      box-shadow: 0px 1px 3px 1px rgba(0, 0, 0, 0.15);\n",
              "      filter: drop-shadow(0px 1px 2px rgba(0, 0, 0, 0.3));\n",
              "      fill: #FFFFFF;\n",
              "    }\n",
              "  </style>\n",
              "\n",
              "      <script>\n",
              "        const buttonEl =\n",
              "          document.querySelector('#df-d9facba8-213d-4c9e-aa0b-1146ab6f0d74 button.colab-df-convert');\n",
              "        buttonEl.style.display =\n",
              "          google.colab.kernel.accessAllowed ? 'block' : 'none';\n",
              "\n",
              "        async function convertToInteractive(key) {\n",
              "          const element = document.querySelector('#df-d9facba8-213d-4c9e-aa0b-1146ab6f0d74');\n",
              "          const dataTable =\n",
              "            await google.colab.kernel.invokeFunction('convertToInteractive',\n",
              "                                                     [key], {});\n",
              "          if (!dataTable) return;\n",
              "\n",
              "          const docLinkHtml = 'Like what you see? Visit the ' +\n",
              "            '<a target=\"_blank\" href=https://colab.research.google.com/notebooks/data_table.ipynb>data table notebook</a>'\n",
              "            + ' to learn more about interactive tables.';\n",
              "          element.innerHTML = '';\n",
              "          dataTable['output_type'] = 'display_data';\n",
              "          await google.colab.output.renderOutput(dataTable, element);\n",
              "          const docLink = document.createElement('div');\n",
              "          docLink.innerHTML = docLinkHtml;\n",
              "          element.appendChild(docLink);\n",
              "        }\n",
              "      </script>\n",
              "    </div>\n",
              "  </div>\n",
              "  "
            ]
          },
          "metadata": {},
          "execution_count": 227
        }
      ]
    },
    {
      "cell_type": "markdown",
      "metadata": {
        "id": "NzYUI7FxJpgv"
      },
      "source": [
        "### 4. Conclusion\n",
        "What can you conclude? Type out your conclusion below. \n",
        "\n",
        "Look back at your notebook. Think about how you might summarize what you have done, and prepare a quick presentation on it to your mentor at your next meeting. \n",
        "\n",
        "We hope you enjoyed this practical project. It should have consolidated your data hygiene and pandas skills by looking at a real-world problem involving just the kind of dataset you might encounter as a budding data scientist. Congratulations, and looking forward to seeing you at the next step in the course! "
      ]
    },
    {
      "cell_type": "markdown",
      "source": [
        "The London Buroughs with the biggest increase in average housing prices were:\n",
        "\n",
        "1. Hackney\n",
        "2. Newham\n",
        "3. Southwark"
      ],
      "metadata": {
        "id": "l4xDkmyQA0yg"
      }
    },
    {
      "cell_type": "code",
      "source": [],
      "metadata": {
        "id": "oDqeoMwxDbBc"
      },
      "execution_count": null,
      "outputs": []
    }
  ]
}